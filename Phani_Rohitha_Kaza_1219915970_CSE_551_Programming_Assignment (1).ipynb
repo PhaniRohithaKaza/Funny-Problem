{
  "nbformat": 4,
  "nbformat_minor": 0,
  "metadata": {
    "colab": {
      "name": "Phani_Rohitha_Kaza_1219915970_CSE_551_Programming_Assignment.ipynb",
      "provenance": [],
      "collapsed_sections": []
    },
    "kernelspec": {
      "name": "python3",
      "display_name": "Python 3"
    },
    "language_info": {
      "name": "python"
    }
  },
  "cells": [
    {
      "cell_type": "code",
      "metadata": {
        "colab": {
          "base_uri": "https://localhost:8080/"
        },
        "id": "gAFwvk9wgBVd",
        "outputId": "556102ea-2709-4e93-e1b4-f088677a73e0"
      },
      "source": [
        "#Phani Rohitha Kaza - 1219915970 - CSE 551 Programming Assignment\n",
        "import os\n",
        "import numpy as np\n",
        "from ast import literal_eval\n",
        "from scipy.sparse import csr_matrix\n",
        "from scipy.sparse.csgraph import breadth_first_order\n",
        "\n",
        "if __name__ == '__main__':\n",
        "  try:\n",
        "        # Taking the input of the size of the grid & co-ordinates of the m starting points\n",
        "        # Enter the valid m input points as (x,y) with space between every two points.\n",
        "    dimension =int(input(\"Enter the dimension of the grid:\"))\n",
        "    m = input(\"Enter the valid points as (x,y) with space between every two points and both the co-ordinates of the points start from 1 & range upto <=dimension of the grid entered. Like (x1,x2) (x2,y2) (x3,y3):\").split()\n",
        "    a = [literal_eval(p) for p in m]\n",
        "    total_nodes = dimension * dimension * 2 + 2\n",
        "    Graph = np.zeros((total_nodes, total_nodes), dtype=int)\n",
        "    A=[]\n",
        "    for i in range(1,total_nodes-2,2):\n",
        "      A.append(i)\n",
        "    B=[]\n",
        "    for i in range(1,dimension+1):\n",
        "      for j in range(1,dimension+1):\n",
        "        B.append((i,j))\n",
        "    C=list(zip(A,B))\n",
        "    #Mapping the edges from single source to m starting vertices with unit capacity\n",
        "    for z in a:\n",
        "        Graph[0][(z[0]-1)*2*dimension+(2*(z[1]-1))+1]=1\n",
        "    for z in range(2,dimension*dimension*2+1,2):\n",
        "        #Mapping the edges from all boundary vertices to single sink with unit capacity\n",
        "        if z<=2*dimension:\n",
        "            Graph[(int(z/2)-1)*2*dimension+2][total_nodes-1]=1\n",
        "            Graph[dimension*z][total_nodes-1]=1\n",
        "            Graph[z][total_nodes-1]=1\n",
        "            Graph[2*(dimension-1)*dimension+z][total_nodes-1]=1   \n",
        "        #Mapping the vertices from G1 to the corresponding vertices G2 with the weight of the edge being one  \n",
        "        Graph[z-1][z]=1      \n",
        "        if z%(2*dimension)!=0:\n",
        "            Graph[z][z+1]=1\n",
        "        if (z-2)%(2*dimension)!=0:\n",
        "            Graph[z][z-3]=1\n",
        "        if z-(2*dimension)>0:\n",
        "            Graph[z][z-(2*dimension)-1]=1\n",
        "        if z+(2*dimension)<dimension*dimension*2+1:\n",
        "            Graph[z][z+(2*dimension)-1]=1\n",
        "    maximum_flow=0\n",
        "    single_source=0\n",
        "    single_sink=total_nodes-1\n",
        "    #Finding the augment path for maximum flow calculation using BFS\n",
        "    extra,VDP=breadth_first_order(csr_matrix(Graph), 0, directed=True, return_predecessors=True)\n",
        "    trace=[single_sink]\n",
        "    x=single_sink\n",
        "    while VDP[x]!=-9999:\n",
        "        trace.append(VDP[x])\n",
        "        x=VDP[x]\n",
        "    vertex_disjoint_path=trace[::-1]\n",
        "    final_paths=[]\n",
        "    final_paths.append(vertex_disjoint_path)\n",
        "    #Maximum flow Calculation\n",
        "    while single_source in vertex_disjoint_path:\n",
        "        al=[]\n",
        "        #Finding the bottleneck edge in the path and updating the weights of the augmented path\n",
        "        for i in range(1,len(vertex_disjoint_path)):\n",
        "          al.append(Graph[vertex_disjoint_path[i - 1]][vertex_disjoint_path[i]])\n",
        "        maximum_flow +=min(al)\n",
        "        for i in range(1,len(vertex_disjoint_path)):\n",
        "          Graph[vertex_disjoint_path[i - 1]][vertex_disjoint_path[i]]-=min(al)\n",
        "          Graph[vertex_disjoint_path[i]][vertex_disjoint_path[i - 1]]+=min(al)\n",
        "        extra,VDP=breadth_first_order(csr_matrix(Graph), 0, directed=True, return_predecessors=True)\n",
        "        trace=[single_sink]\n",
        "        x=single_sink\n",
        "        while VDP[x]!=-9999:\n",
        "          trace.append(VDP[x])\n",
        "          x=VDP[x]  \n",
        "        vertex_disjoint_path=trace[::-1]\n",
        "        #Appending the vertex disjoint path to the final list\n",
        "        final_paths.append(vertex_disjoint_path)\n",
        "    #Printing the final results\n",
        "    if maximum_flow == len(a):\n",
        "      print(\"YES, a solution exists\")\n",
        "      print(\"A solution to this problem (a set of vertex-disjoint paths) is:\")\n",
        "      for i in final_paths[:-1]:\n",
        "        for k in range(len(C)):\n",
        "          if i[1]==C[k][0]:\n",
        "            print(\"PATH from\",C[k][1],\": \",end=\"\")\n",
        "        for j in range(1, len(i)-1, 2):\n",
        "          for p in range(len(C)):\n",
        "            if i[j]==C[p][0]:\n",
        "              print(C[p][1],end=\"\")\n",
        "              if j < len(i[1:-1])-1:\n",
        "                print(\" -> \", end=\"\")\n",
        "        print(\"\")   \n",
        "    else:\n",
        "      print(\"NO\")\n",
        "  except:\n",
        "    print(\"Enter valid input m starting points with respective to the entered dimension\")\n",
        " "
      ],
      "execution_count": null,
      "outputs": [
        {
          "output_type": "stream",
          "text": [
            "Enter the dimension of the grid:6\n",
            "Enter the valid points as (x,y) with space between every two points and both the co-ordinates of the points start from 1 & range upto <=dimension of the grid entered. Like (x1,x2) (x2,y2) (x3,y3):(2,2) (2,4) (2,6) (3,1) (3,2) (3,4) (3,6) (4,2) (4,4) (4,6)\n",
            "YES, a solution exists\n",
            "A solution to this problem (a set of vertex-disjoint paths) is:\n",
            "PATH from (2, 6) : (2, 6)\n",
            "PATH from (3, 1) : (3, 1)\n",
            "PATH from (3, 6) : (3, 6)\n",
            "PATH from (4, 6) : (4, 6)\n",
            "PATH from (2, 2) : (2, 2) -> (1, 2)\n",
            "PATH from (2, 4) : (2, 4) -> (1, 4)\n",
            "PATH from (4, 2) : (4, 2) -> (4, 1)\n",
            "PATH from (4, 4) : (4, 4) -> (5, 4) -> (6, 4)\n",
            "PATH from (3, 2) : (3, 2) -> (3, 3) -> (2, 3) -> (1, 3)\n",
            "PATH from (3, 4) : (3, 4) -> (3, 5) -> (2, 5) -> (1, 5)\n"
          ],
          "name": "stdout"
        }
      ]
    },
    {
      "cell_type": "code",
      "metadata": {
        "id": "ybNVbKhxxbjW"
      },
      "source": [
        ""
      ],
      "execution_count": null,
      "outputs": []
    }
  ]
}